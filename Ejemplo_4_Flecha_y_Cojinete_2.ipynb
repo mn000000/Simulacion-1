{
  "cells": [
    {
      "cell_type": "markdown",
      "metadata": {
        "id": "view-in-github",
        "colab_type": "text"
      },
      "source": [
        "<a href=\"https://colab.research.google.com/github/mn000000/Simulacion-1/blob/main/Ejemplo_4_Flecha_y_Cojinete_2.ipynb\" target=\"_parent\"><img src=\"https://colab.research.google.com/assets/colab-badge.svg\" alt=\"Open In Colab\"/></a>"
      ]
    },
    {
      "cell_type": "markdown",
      "id": "c21e5530",
      "metadata": {
        "id": "c21e5530"
      },
      "source": [
        "Flecha y cojinete"
      ]
    },
    {
      "cell_type": "markdown",
      "id": "61f9bd36",
      "metadata": {
        "id": "61f9bd36"
      },
      "source": [
        "Una flecha será embonada en un cojinete como se muestra a continuación\n",
        "\n",
        "<img src=\"cojin.png\">\n"
      ]
    },
    {
      "cell_type": "markdown",
      "source": [],
      "metadata": {
        "id": "X-7KFSMysrT6"
      },
      "id": "X-7KFSMysrT6"
    },
    {
      "cell_type": "markdown",
      "id": "5f658ca1",
      "metadata": {
        "id": "5f658ca1"
      },
      "source": [
        "Si $x_1$ sigue una distribución normal con media $1.5$ y varianza $0.0016$, y $x_2$ esta misma distribución con media $1.48$ y varianza $0.0009$, determine:\n",
        "\n",
        "a) La probabilidad de que haya interferencia.\n",
        "\n",
        "b) El número de veces que es necesario simular el experimento, si se quiere que la probabilidad de interferencia estimada difiera de su valor verdadero en menos de $0.01$, con un nivel de seguridad del $95\\%.$\n",
        "\n",
        "### Solución\n",
        "\n",
        "**a) La probabilidad de que haya interferencia**\n",
        "\n",
        "La interferencia ocurre si $ x_2 > x_1 $.\n",
        "\n",
        "1. $ x_1 \\sim N(1.5, 0.0016) $\n",
        "2. $ x_2 \\sim N(1.48, 0.0009) $\n",
        "\n",
        "La diferencia $ x_2 - x_1 $ sigue una distribución normal con:\n",
        "$$ \\mu_{x_2 - x_1} = 1.48 - 1.5 = -0.02 $$\n",
        "$$ \\sigma_{x_2 - x_1} = \\sqrt{0.0009 + 0.0016} = \\sqrt{0.0025} = 0.05 $$\n",
        "\n",
        "Por lo tanto,\n",
        "$$ x_2 - x_1 \\sim N(-0.02, 0.05^2) $$\n",
        "\n",
        "La probabilidad de interferencia es:\n",
        "$$ P(x_2 > x_1) = P(x_2 - x_1 > 0) = P\\left( Z > \\frac{0.02}{0.05} \\right) $$\n",
        "$$ P(Z > 0.4) = 1 - P(Z \\leq 0.4) $$\n",
        "$$ P(Z \\leq 0.4) \\approx 0.6554 $$\n",
        "$$ P(Z > 0.4) = 1 - 0.6554 = 0.3446 $$\n",
        "\n",
        "**b) Número de simulaciones necesarias**\n",
        "\n",
        "La fórmula para el tamaño de muestra es:\n",
        "$$ N = \\left( \\frac{z_{\\alpha/2} \\cdot \\sigma}{\\epsilon} \\right)^2 $$\n",
        "\n",
        "Para este problema:\n",
        "$$ \\sigma = 0.05 $$\n",
        "$$ \\epsilon = 0.01 $$\n",
        "$$ z_{\\alpha/2} = 1.96 $$\n",
        "\n",
        "Sustituimos estos valores:\n",
        "$$ N = \\left( \\frac{1.96 \\cdot 0.05}{0.01} \\right)^2 $$\n",
        "$$ N = (9.8)^2 = 96.04 $$\n",
        "\n",
        "Por lo tanto, se necesitan al menos 97 simulaciones.\n",
        "\n",
        "\n",
        "### Desarrollo Matemático\n",
        "#### Distribución Normal\n",
        "Para $x_1 \\sim N(1.5, 0.04)$ y $x_2 \\sim N(1.48, 0.03)$, las distribuciones normales tienen las siguientes propiedades:\n",
        "1. **Media y Varianza**:\n",
        "- $x_1 \\sim N(\\mu_1, \\sigma_1^2)$\n",
        "- $x_2 \\sim N(\\mu_2, \\sigma_2^2)$\n",
        "\n",
        "Donde:\n",
        "- $\\mu_1 = 1.5$\n",
        "- $\\sigma_1^2 = 0.04$\n",
        "- $\\mu_2 = 1.48$\n",
        "- $\\sigma_2^2 = 0.03$\n",
        "\n",
        "La diferencia $x_1 - x_2$ también sigue una distribución normal con:\n",
        "- Media: $\\mu_{x_1 - x_2} = \\mu_1 - \\mu_2$\n",
        "- Varianza: $\\sigma_{x_1 - x_2}^2 = \\sigma_1^2 + \\sigma_2^2$\n",
        "\n",
        "            \n",
        "### Justificación Matemática para $x_1 - x_2$\n",
        "\n",
        "Si $x_1 \\sim N(\\mu_1, \\sigma_1^2)$ y $x_2 \\sim N(\\mu_2, \\sigma_2^2)$, entonces la diferencia $x_1 - x_2$ sigue una distribución normal con:\n",
        "\n",
        "1. **Media**:\n",
        "$$ \\mu_{x_1 - x_2} = \\mu_1 - \\mu_2 $$\n",
        "\n",
        "2. **Varianza**:\n",
        "$$ \\sigma_{x_1 - x_2}^2 = \\sigma_1^2 + \\sigma_2^2 $$\n",
        "\n",
        "La razón es que la suma (o diferencia) de dos variables aleatorias normales es otra variable normal cuya media es la suma (o diferencia) de las medias y cuya varianza es la suma de las varianzas.\n",
        "\n",
        "            \n",
        "\n",
        "\n"
      ]
    },
    {
      "cell_type": "markdown",
      "id": "fac00420",
      "metadata": {
        "id": "fac00420"
      },
      "source": [
        "Vamos a resolver este problema, procurando seguir la metodología vista en el curso."
      ]
    },
    {
      "cell_type": "markdown",
      "id": "ccd32164",
      "metadata": {
        "id": "ccd32164"
      },
      "source": [
        "### 1. Identifique las variables\n",
        "\n",
        "Tenemos dos: $x_1$ y $x_2$."
      ]
    },
    {
      "cell_type": "markdown",
      "id": "ae8735e5",
      "metadata": {
        "id": "ae8735e5"
      },
      "source": [
        "### 2 y 3. Determine la distribución de probabilidad y modele las variables aleatorias\n",
        "\n",
        "En el planteamiento ya se especifica que $x_1 \\sim N(1.5, 0.04)$ y que $x_1 \\sim N(1.48, 0.03)$."
      ]
    },
    {
      "cell_type": "markdown",
      "id": "b1b57a13",
      "metadata": {
        "id": "b1b57a13"
      },
      "source": [
        "### 4. Defina el modelo del sistema y los objetivos de la simulación\n",
        "\n",
        "La diferencia $x_1 - x_2$ modela adecuadamente el sistema.\n",
        "\n",
        "Si $x_2 - x_1 > 0$ el diametro de la flecha es más grande que el espacio en el cojinte y, por tanto, hay interferencia. De lo contrario, las piezas embonan sin problema.\n",
        "\n",
        "Objetivo: determinar la frecuencia con que esto ocurre, lo cual nos da una esrimación de la probabilidad de interefrencia.\n",
        "\n",
        "Una forma de implementarlo es mediante el siguiente código."
      ]
    },
    {
      "cell_type": "code",
      "execution_count": null,
      "id": "191b1e9b",
      "metadata": {
        "id": "191b1e9b"
      },
      "outputs": [],
      "source": [
        "import numpy as np\n",
        "import random\n",
        "import matplotlib.pyplot as plt\n",
        "from scipy.stats import norm"
      ]
    },
    {
      "cell_type": "code",
      "execution_count": null,
      "id": "e64c27d2",
      "metadata": {
        "id": "e64c27d2"
      },
      "outputs": [],
      "source": [
        "def interferencia():                #Esta función devuelve el valor 1 si hay interferencia o 0 si no la hay.\n",
        "    interf=0\n",
        "    x_1 = random.gauss(1.50,0.04)    #La funcion gauss genera un número que sigue una distribucion normal con\n",
        "    x_2 = random.gauss(1.48,0.03)   # la media y la desvicion estandar especificados.\n",
        "    if 0.0 < x_2 - x_1:\n",
        "        interf += 1\n",
        "    return interf"
      ]
    },
    {
      "cell_type": "code",
      "execution_count": null,
      "id": "ebe51777",
      "metadata": {
        "id": "ebe51777",
        "colab": {
          "base_uri": "https://localhost:8080/"
        },
        "outputId": "56a324cc-da1c-46b6-d694-77b17f964a3c"
      },
      "outputs": [
        {
          "output_type": "execute_result",
          "data": {
            "text/plain": [
              "1"
            ]
          },
          "metadata": {},
          "execution_count": 4
        }
      ],
      "source": [
        "interferencia()"
      ]
    },
    {
      "cell_type": "markdown",
      "id": "d6186dac",
      "metadata": {
        "id": "d6186dac"
      },
      "source": [
        "### 5. Diseñe el experimento\n",
        "\n",
        "Para estimar la probabilidad de interferencia, ejecutamos $n$ veces la función anterior y calculamos de manera acumulativa\n",
        "la probabilidad de interferencia."
      ]
    },
    {
      "cell_type": "code",
      "execution_count": null,
      "id": "f9a766a5",
      "metadata": {
        "id": "f9a766a5"
      },
      "outputs": [],
      "source": [
        "def prob_inter(n):\n",
        "    prob = []                       # Esta funcion devuelve esta lista \"prob\", con los valores de la probabilidad\n",
        "    inter = 0                       # estimada al contar las veces que hay interferencia y dividir entre las veces que\n",
        "    for i in range(n):              # se ha reptido la observacion mientras aumenta el numero de iteraciones.\n",
        "        inter += interferencia()\n",
        "        prob.append(inter/(i+1))\n",
        "    return prob"
      ]
    },
    {
      "cell_type": "code",
      "execution_count": null,
      "id": "8099a245",
      "metadata": {
        "id": "8099a245"
      },
      "outputs": [],
      "source": [
        "X = prob_inter(500)                # Asignamos valores a n y realizamos el experimento"
      ]
    },
    {
      "cell_type": "code",
      "execution_count": null,
      "id": "c5a5a3c2",
      "metadata": {
        "id": "c5a5a3c2",
        "colab": {
          "base_uri": "https://localhost:8080/",
          "height": 448
        },
        "outputId": "6f416833-c883-411e-e339-21ebaf95273f"
      },
      "outputs": [
        {
          "output_type": "execute_result",
          "data": {
            "text/plain": [
              "[<matplotlib.lines.Line2D at 0x7b25e92834f0>]"
            ]
          },
          "metadata": {},
          "execution_count": 7
        },
        {
          "output_type": "display_data",
          "data": {
            "text/plain": [
              "<Figure size 640x480 with 1 Axes>"
            ],
            "image/png": "[encoded data removed]"
          },
          "metadata": {}
        }
      ],
      "source": [
        "plt.plot(X)                         # La gráfica muestra que la convergencia está garantizada con 500 iteraciones\n",
        "                                    # Sin embargo, diferentes ejecuciones darán resultados distintos"
      ]
    },
    {
      "cell_type": "code",
      "execution_count": null,
      "id": "4ac4c689",
      "metadata": {
        "id": "4ac4c689",
        "colab": {
          "base_uri": "https://localhost:8080/"
        },
        "outputId": "ac1a1cae-5c9b-413c-8852-9056dc4b504d"
      },
      "outputs": [
        {
          "output_type": "stream",
          "name": "stdout",
          "text": [
            "0.32770497931986886 0.03253348683077965\n"
          ]
        }
      ],
      "source": [
        "print(np.mean(X), np.std(X))"
      ]
    },
    {
      "cell_type": "markdown",
      "id": "34727279",
      "metadata": {
        "id": "34727279"
      },
      "source": [
        "### 6. Repita el experimento $n$ veces\n",
        "\n",
        "Una forma de hacerlo es mediante el siguiente codigo."
      ]
    },
    {
      "cell_type": "code",
      "execution_count": null,
      "id": "908f1884",
      "metadata": {
        "id": "908f1884"
      },
      "outputs": [],
      "source": [
        "def modelo(n):\n",
        "    lista=[]\n",
        "    for i in range(n):\n",
        "        s = prob_inter(500)\n",
        "        lista.append(np.mean(s))\n",
        "    return lista"
      ]
    },
    {
      "cell_type": "code",
      "execution_count": null,
      "id": "34868564",
      "metadata": {
        "id": "34868564"
      },
      "outputs": [],
      "source": [
        "Y=modelo(120)"
      ]
    },
    {
      "cell_type": "code",
      "execution_count": null,
      "id": "8a95845e",
      "metadata": {
        "id": "8a95845e",
        "colab": {
          "base_uri": "https://localhost:8080/",
          "height": 432
        },
        "outputId": "37c22db7-7b15-4a98-8a52-dd0fd037a3fb"
      },
      "outputs": [
        {
          "output_type": "display_data",
          "data": {
            "text/plain": [
              "<Figure size 640x480 with 1 Axes>"
            ],
            "image/png": "[encoded data removed]"
          },
          "metadata": {}
        }
      ],
      "source": [
        "plt.hist(Y)\n",
        "plt.show()"
      ]
    },
    {
      "cell_type": "code",
      "execution_count": null,
      "id": "e892a16c",
      "metadata": {
        "id": "e892a16c",
        "colab": {
          "base_uri": "https://localhost:8080/"
        },
        "outputId": "6ab283e1-9f1f-4b00-a6da-97cc71ba0560"
      },
      "outputs": [
        {
          "output_type": "stream",
          "name": "stdout",
          "text": [
            "0.3494094082126191 0.028318936515607178\n"
          ]
        }
      ],
      "source": [
        "print(np.mean(Y), np.std(Y))"
      ]
    },
    {
      "cell_type": "markdown",
      "id": "e5dc2362",
      "metadata": {
        "id": "e5dc2362"
      },
      "source": [
        "### Paso 7. Hallamos el intervalo de confianza.\n",
        "\n",
        "$$\\bar{x}-z_{\\alpha/2} \\cdot \\frac{s}{\\sqrt{n}} < \\mu < \\bar{x}+z_{\\alpha/2}\\cdot \\frac{s}{\\sqrt{n}}$$\n",
        "\n",
        "\n",
        "### Desarrollo Matemático del Intervalo de Confianza\n",
        "\n",
        "Para calcular el intervalo de confianza, seguimos estos pasos:\n",
        "\n",
        "1. **Planteamiento inicial**: Sabemos que el estimador de la media muestral $ \\bar{x} $ sigue una distribución normal si el tamaño de la muestra es suficientemente grande (Teorema Central del Límite):\n",
        "$$ \\bar{x} \\sim N\\left( \\mu, \\frac{\\sigma^2}{n} \\right) $$\n",
        "\n",
        "2. **Desviación estándar muestral**: La desviación estándar de la media muestral es:\n",
        "$$ \\sigma_{\\bar{x}} = \\frac{\\sigma}{\\sqrt{n}} $$\n",
        "\n",
        "3. **Intervalo de confianza**: Para un nivel de confianza del 95%, el valor crítico $ z_{\\alpha/2} $ es aproximadamente 1.96. Entonces, el intervalo de confianza se calcula como:\n",
        "$$ \\bar{x} - z_{\\alpha/2} \\cdot \\frac{\\sigma}{\\sqrt{n}} < \\mu < \\bar{x} + z_{\\alpha/2} \\cdot \\frac{\\sigma}{\\sqrt{n}} $$\n",
        "\n",
        "4. **Sustitución de $ s $ por $ \\sigma $**: En la práctica, no siempre conocemos $ \\sigma $ y usamos $ s $, la desviación estándar muestral, en su lugar:\n",
        "$$ \\bar{x} - z_{\\alpha/2} \\cdot \\frac{s}{\\sqrt{n}} < \\mu < \\bar{x} + z_{\\alpha/2} \\cdot \\frac{s}{\\sqrt{n}} $$\n",
        "\n",
        "Por lo tanto, el intervalo de confianza para la media verdadera $ \\mu $ está dado por:\n",
        "$$ \\bar{x} - z_{\\alpha/2} \\cdot \\frac{s}{\\sqrt{n}} < \\mu < \\bar{x} + z_{\\alpha/2} \\cdot \\frac{s}{\\sqrt{n}} $$\n",
        "\n",
        "Donde:\n",
        "- $ \\bar{x} $ es la media muestral.\n",
        "- $ s $ es la desviación estándar muestral.\n",
        "- $ n $ es el tamaño de la muestra.\n",
        "- $ z_{\\alpha/2} $ es el valor crítico de la distribución normal estándar para un nivel de confianza dado.\n",
        "\n",
        "            \n",
        "\n"
      ]
    },
    {
      "cell_type": "code",
      "execution_count": null,
      "id": "23d0b48e",
      "metadata": {
        "id": "23d0b48e",
        "colab": {
          "base_uri": "https://localhost:8080/"
        },
        "outputId": "1ba77598-7640-4bb7-b194-9ba5c1ee9635"
      },
      "outputs": [
        {
          "output_type": "execute_result",
          "data": {
            "text/plain": [
              "0.3494094082126191"
            ]
          },
          "metadata": {},
          "execution_count": 13
        }
      ],
      "source": [
        "np.mean(Y)"
      ]
    },
    {
      "cell_type": "code",
      "execution_count": null,
      "id": "b29c74e6",
      "metadata": {
        "id": "b29c74e6",
        "colab": {
          "base_uri": "https://localhost:8080/"
        },
        "outputId": "6fd8bac2-4781-43c9-c8a4-101f470aafff"
      },
      "outputs": [
        {
          "output_type": "execute_result",
          "data": {
            "text/plain": [
              "(0.3415597994905177, 0.35725901693472056)"
            ]
          },
          "metadata": {},
          "execution_count": 14
        }
      ],
      "source": [
        "np.mean(Y) - 1.96*np.std(Y)/np.sqrt(50), np.mean(Y) + 1.96*np.std(Y)/np.sqrt(50)"
      ]
    },
    {
      "cell_type": "markdown",
      "id": "112c0954",
      "metadata": {
        "id": "112c0954"
      },
      "source": [
        "### Para determinar el número de simulaciones\n",
        "\n",
        "### Número de Simulaciones\n",
        "El número de simulaciones necesarias para que la probabilidad de interferencia estimada difiera de su valor verdadero en menos de $\\epsilon$, con un nivel de confianza del $95\\%$ es:\n",
        "$$ N > \\left( \\frac{ \\sigma z_{\\alpha/2}}{\\epsilon} \\right)^2 $$\n",
        "\n",
        "\n",
        "\n",
        "            \n",
        "### Desarrollo Matemático del Número de Simulaciones\n",
        "\n",
        "Para determinar el número de simulaciones necesarias para que la probabilidad estimada de interferencia difiera de su valor verdadero en menos de $ \\epsilon $ con un nivel de confianza del 95%, utilizamos la siguiente fórmula:\n",
        "\n",
        "$$ N > \\left( \\frac{ \\sigma z_{\\alpha/2}}{\\epsilon} \\right)^2 $$\n",
        "\n",
        "Donde:\n",
        "- $ N $ es el número de simulaciones necesarias.\n",
        "- $ \\sigma $ es la desviación estándar de la distribución.\n",
        "- $ z_{\\alpha/2} $ es el valor crítico de la distribución normal estándar para un nivel de confianza dado.\n",
        "- $ \\epsilon $ es el margen de error deseado.\n",
        "\n",
        "Esta fórmula se deriva del intervalo de confianza para proporciones. Los pasos son los siguientes:\n",
        "\n",
        "1. **Margen de error**: El margen de error $ E $ para una proporción es:\n",
        "$$ \\epsilon = z_{\\alpha/2} \\cdot \\sqrt{\\frac{p(1-p)}{N}} $$\n",
        "\n",
        "2. **Despejar $ N $**: Para encontrar $ N $, reorganizamos la ecuación:\n",
        "$$ N = \\left( \\frac{z_{\\alpha/2} \\cdot \\sqrt{p(1-p)}}{\\epsilon} \\right)^2 $$\n",
        "\n",
        "3. **Sustituir $ \\epsilon $ y $ p(1-p) $**: Si el margen de error deseado es $ \\epsilon $ y suponemos $ p(1-p) \\approx \\sigma^2 $, obtenemos:\n",
        "$$ N = \\left( \\frac{z_{\\alpha/2} \\cdot \\sigma}{\\epsilon} \\right)^2 $$\n",
        "\n",
        "4. **Simplificar**: Finalmente, simplificamos la ecuación:\n",
        "$$ N = \\left( \\frac{ \\sigma z_{\\alpha/2}}{\\epsilon} \\right)^2 $$\n"
      ]
    },
    {
      "cell_type": "markdown",
      "id": "0a1a63e7",
      "metadata": {
        "id": "0a1a63e7"
      },
      "source": [
        "$$ N > \\Bigg( \\frac{ \\sigma z_{\\alpha/2}}{\\epsilon} \\Bigg) ^2 $$"
      ]
    },
    {
      "cell_type": "code",
      "execution_count": null,
      "id": "1478d745",
      "metadata": {
        "id": "1478d745"
      },
      "outputs": [],
      "source": [
        "N = (2*np.std(X)*1.96/0.01)**2"
      ]
    },
    {
      "cell_type": "code",
      "execution_count": null,
      "id": "fa6ae0ce",
      "metadata": {
        "id": "fa6ae0ce",
        "outputId": "99487ad7-4458-4c9a-9724-c1e242024afb",
        "colab": {
          "base_uri": "https://localhost:8080/"
        }
      },
      "outputs": [
        {
          "output_type": "stream",
          "name": "stdout",
          "text": [
            "162.6422441375871\n"
          ]
        }
      ],
      "source": [
        "print(N)"
      ]
    },
    {
      "cell_type": "markdown",
      "id": "a6d1c695",
      "metadata": {
        "id": "a6d1c695"
      },
      "source": [
        "### Podemos comparar con la sulución analítica del problema.\n",
        "\n",
        "Para ello usamos la teoría sobre la suma de variables con distribución normal."
      ]
    },
    {
      "cell_type": "code",
      "execution_count": null,
      "id": "7284bee0",
      "metadata": {
        "id": "7284bee0",
        "colab": {
          "base_uri": "https://localhost:8080/"
        },
        "outputId": "d3133ae1-2099-415d-9f5b-40b50ac4f071"
      },
      "outputs": [
        {
          "output_type": "execute_result",
          "data": {
            "text/plain": [
              "0.3445782583896758"
            ]
          },
          "metadata": {},
          "execution_count": 17
        }
      ],
      "source": [
        "norm.cdf(-0.04, -0.02, 0.05)"
      ]
    },
    {
      "cell_type": "code",
      "execution_count": null,
      "id": "a1a842a2",
      "metadata": {
        "id": "a1a842a2",
        "colab": {
          "base_uri": "https://localhost:8080/"
        },
        "outputId": "b28a35e3-f0fe-494c-8337-c74a0d0141d9"
      },
      "outputs": [
        {
          "output_type": "execute_result",
          "data": {
            "text/plain": [
              "-0.004831149822943304"
            ]
          },
          "metadata": {},
          "execution_count": 18
        }
      ],
      "source": [
        "norm.cdf(-0.04, -0.02, 0.05)-np.mean(Y)"
      ]
    }
  ],
  "metadata": {
    "kernelspec": {
      "display_name": "Python 3 (ipykernel)",
      "language": "python",
      "name": "python3"
    },
    "language_info": {
      "codemirror_mode": {
        "name": "ipython",
        "version": 3
      },
      "file_extension": ".py",
      "mimetype": "text/x-python",
      "name": "python",
      "nbconvert_exporter": "python",
      "pygments_lexer": "ipython3",
      "version": "3.7.3"
    },
    "colab": {
      "provenance": [],
      "include_colab_link": true
    }
  },
  "nbformat": 4,
  "nbformat_minor": 5
}