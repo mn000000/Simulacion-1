{
  "cells": [
    {
      "cell_type": "markdown",
      "metadata": {
        "id": "view-in-github",
        "colab_type": "text"
      },
      "source": [
        "<a href=\"https://colab.research.google.com/github/mn000000/Simulacion-1/blob/main/Inventario.ipynb\" target=\"_parent\"><img src=\"https://colab.research.google.com/assets/colab-badge.svg\" alt=\"Open In Colab\"/></a>"
      ]
    },
    {
      "cell_type": "markdown",
      "id": "83199938",
      "metadata": {
        "id": "83199938"
      },
      "source": [
        "# Simulación y Optimización de Inventario"
      ]
    },
    {
      "cell_type": "markdown",
      "id": "318e5682",
      "metadata": {
        "id": "318e5682"
      },
      "source": [
        "## Importación de librerías necesarias"
      ]
    },
    {
      "cell_type": "code",
      "execution_count": 29,
      "id": "9668d8c3",
      "metadata": {
        "id": "9668d8c3"
      },
      "outputs": [],
      "source": [
        "\n",
        "import numpy as np\n",
        "import pandas as pd\n",
        "import matplotlib.pyplot as plt\n",
        "from scipy.optimize import minimize\n"
      ]
    },
    {
      "cell_type": "markdown",
      "id": "50110d93",
      "metadata": {
        "id": "50110d93"
      },
      "source": [
        "## Distribución de demanda mensual"
      ]
    },
    {
      "cell_type": "code",
      "execution_count": 30,
      "id": "dce8f284",
      "metadata": {
        "id": "dce8f284"
      },
      "outputs": [],
      "source": [
        "\n",
        "# Distribución de demanda mensual\n",
        "demanda = {\n",
        "    35: 0.010, 36: 0.015, 37: 0.020, 38: 0.020, 39: 0.022,\n",
        "    40: 0.023, 41: 0.025, 42: 0.027, 43: 0.028, 44: 0.029,\n",
        "    45: 0.035, 46: 0.045, 47: 0.060, 48: 0.065, 49: 0.070,\n",
        "    50: 0.080, 51: 0.075, 52: 0.070, 53: 0.065, 54: 0.060,\n",
        "    55: 0.050, 56: 0.040, 57: 0.030, 58: 0.016, 59: 0.015, 60: 0.005\n",
        "}\n"
      ]
    },
    {
      "cell_type": "markdown",
      "id": "aaf806de",
      "metadata": {
        "id": "aaf806de"
      },
      "source": [
        "## Distribución de tiempo de entrega"
      ]
    },
    {
      "cell_type": "code",
      "execution_count": 31,
      "id": "c20830f4",
      "metadata": {
        "id": "c20830f4"
      },
      "outputs": [],
      "source": [
        "\n",
        "# Distribución de tiempo de entrega\n",
        "tiempo_entrega = {\n",
        "    1: 0.30, 2: 0.40, 3: 0.30\n",
        "}\n"
      ]
    },
    {
      "cell_type": "markdown",
      "id": "302158a7",
      "metadata": {
        "id": "302158a7"
      },
      "source": [
        "## Factores estacionales"
      ]
    },
    {
      "cell_type": "code",
      "execution_count": 32,
      "id": "6ad0eb4c",
      "metadata": {
        "id": "6ad0eb4c"
      },
      "outputs": [],
      "source": [
        "\n",
        "# Factores estacionales\n",
        "factores_estacionales = {\n",
        "    1: 1.20, 2: 1.00, 3: 0.90, 4: 0.80, 5: 0.80, 6: 0.70,\n",
        "    7: 0.80, 8: 0.90, 9: 1.00, 10: 1.20, 11: 1.30, 12: 1.40\n",
        "}\n"
      ]
    },
    {
      "cell_type": "markdown",
      "id": "53aa74a4",
      "metadata": {
        "id": "53aa74a4"
      },
      "source": [
        "## Costos involucrados en el sistema de inventario"
      ]
    },
    {
      "cell_type": "code",
      "execution_count": 33,
      "id": "73e9c7b8",
      "metadata": {
        "id": "73e9c7b8"
      },
      "outputs": [],
      "source": [
        "\n",
        "# Costos\n",
        "costo_ordenar = 100\n",
        "costo_inventario = 20\n",
        "costo_faltante = 50\n"
      ]
    },
    {
      "cell_type": "markdown",
      "id": "ea4025de",
      "metadata": {
        "id": "ea4025de"
      },
      "source": [
        "## Inventario inicial"
      ]
    },
    {
      "cell_type": "code",
      "execution_count": 34,
      "id": "253674eb",
      "metadata": {
        "id": "253674eb"
      },
      "outputs": [],
      "source": [
        "\n",
        "# Inventario inicial\n",
        "inventario_inicial = 150\n"
      ]
    },
    {
      "cell_type": "markdown",
      "id": "a71e9c6f",
      "metadata": {
        "id": "a71e9c6f"
      },
      "source": [
        "## Funciones de demanda y tiempo de entrega"
      ]
    },
    {
      "cell_type": "code",
      "execution_count": 35,
      "id": "41563aee",
      "metadata": {
        "id": "41563aee"
      },
      "outputs": [],
      "source": [
        "\n",
        "# Funciones\n",
        "def generar_demanda():\n",
        "    cantidades = list(demanda.keys())\n",
        "    probabilidades = list(demanda.values())\n",
        "    return np.random.choice(cantidades, p=probabilidades)\n",
        "\n",
        "def generar_tiempo_entrega():\n",
        "    tiempos = list(tiempo_entrega.keys())\n",
        "    probabilidades = list(tiempo_entrega.values())\n",
        "    return np.random.choice(tiempos, p=probabilidades)\n"
      ]
    },
    {
      "cell_type": "markdown",
      "id": "288dbdba",
      "metadata": {
        "id": "288dbdba"
      },
      "source": [
        "## Función para simular el inventario"
      ]
    },
    {
      "cell_type": "code",
      "execution_count": 36,
      "id": "6c643059",
      "metadata": {
        "id": "6c643059"
      },
      "outputs": [],
      "source": [
        "\n",
        "# Función para simular el inventario\n",
        "def simular_inventario(meses=12, q=200, R=100):\n",
        "    inventario = inventario_inicial\n",
        "    costo_total_ordenar = 0\n",
        "    costo_total_inventario = 0\n",
        "    costo_total_faltante = 0\n",
        "    historial_inventario = []\n",
        "    historial_pedidos = []\n",
        "    historial_faltantes = []\n",
        "\n",
        "    pedidos = []\n",
        "\n",
        "    for mes in range(1, meses + 1):\n",
        "        demanda_mes = generar_demanda() * factores_estacionales[mes]\n",
        "\n",
        "        # Registrar pedidos si llegan en este mes\n",
        "        if pedidos:\n",
        "            for pedido in pedidos.copy():\n",
        "                if pedido[1] == mes:\n",
        "                    inventario += pedido[0]\n",
        "                    pedidos.remove(pedido)\n",
        "\n",
        "        if inventario < R:\n",
        "            pedido = q\n",
        "            tiempo_entrega_mes = generar_tiempo_entrega()\n",
        "            pedidos.append((pedido, mes + tiempo_entrega_mes))\n",
        "            costo_total_ordenar += costo_ordenar\n",
        "            historial_pedidos.append((mes, pedido))\n",
        "\n",
        "        if demanda_mes > inventario:\n",
        "            faltantes = demanda_mes - inventario\n",
        "            costo_total_faltante += faltantes * costo_faltante\n",
        "            inventario = 0\n",
        "        else:\n",
        "            faltantes = 0\n",
        "            inventario -= demanda_mes\n",
        "\n",
        "        costo_total_inventario += inventario * costo_inventario / 12\n",
        "        historial_inventario.append(inventario)\n",
        "        historial_faltantes.append(faltantes)\n",
        "\n",
        "    costo_total = costo_total_ordenar + costo_total_inventario + costo_total_faltante\n",
        "\n",
        "    return historial_inventario, historial_pedidos, historial_faltantes, costo_total\n"
      ]
    },
    {
      "cell_type": "markdown",
      "id": "8fd99807",
      "metadata": {
        "id": "8fd99807"
      },
      "source": [
        "## Función objetivo para optimización"
      ]
    },
    {
      "cell_type": "code",
      "execution_count": 37,
      "id": "254d4743",
      "metadata": {
        "id": "254d4743"
      },
      "outputs": [],
      "source": [
        "\n",
        "# Función objetivo\n",
        "def objetivo(params):\n",
        "    q, R = params\n",
        "    _, _, _, costo_total = simular_inventario(q=int(q), R=int(R))\n",
        "    return costo_total\n"
      ]
    },
    {
      "cell_type": "markdown",
      "id": "cad4c06f",
      "metadata": {
        "id": "cad4c06f"
      },
      "source": [
        "## Definición de límites y condiciones iniciales"
      ]
    },
    {
      "cell_type": "code",
      "execution_count": 38,
      "id": "eff9034e",
      "metadata": {
        "id": "eff9034e"
      },
      "outputs": [],
      "source": [
        "\n",
        "# Límites y condiciones iniciales\n",
        "limites = [(50, 250), (50, 200)]\n",
        "condiciones_iniciales = [100, 100]\n"
      ]
    },
    {
      "cell_type": "markdown",
      "id": "4c16b221",
      "metadata": {
        "id": "4c16b221"
      },
      "source": [
        "## Ejecución"
      ]
    },
    {
      "cell_type": "code",
      "execution_count": 39,
      "id": "022c2708",
      "metadata": {
        "colab": {
          "base_uri": "https://localhost:8080/"
        },
        "id": "022c2708",
        "outputId": "cd3cc535-7127-42d3-d0e1-4c6fe577a06c"
      },
      "outputs": [
        {
          "output_type": "stream",
          "name": "stdout",
          "text": [
            "Cantidad óptima a ordenar (q): 99\n",
            "Nivel óptimo de reorden (R): 99\n",
            "Costo total mínimo: $4997.33\n"
          ]
        }
      ],
      "source": [
        "\n",
        "# Ejecución de optimización\n",
        "resultado = minimize(objetivo, condiciones_iniciales, bounds=limites, method='L-BFGS-B')\n",
        "mejor_q, mejor_R = resultado.x\n",
        "\n",
        "print(f'Cantidad óptima a ordenar (q): {int(mejor_q)}')\n",
        "print(f'Nivel óptimo de reorden (R): {int(mejor_R)}')\n",
        "print(f'Costo total mínimo: ${resultado.fun:.2f}')\n"
      ]
    },
    {
      "cell_type": "markdown",
      "id": "c7e8b5b5",
      "metadata": {
        "id": "c7e8b5b5"
      },
      "source": [
        "## Ejecución de simulación con valores óptimos"
      ]
    },
    {
      "cell_type": "code",
      "execution_count": 40,
      "id": "a6ad56f5",
      "metadata": {
        "id": "a6ad56f5"
      },
      "outputs": [],
      "source": [
        "\n",
        "# Simulación con valores óptimos\n",
        "historial_inventario, historial_pedidos, historial_faltantes, costo_total = simular_inventario(q=int(mejor_q), R=int(mejor_R))\n"
      ]
    },
    {
      "cell_type": "markdown",
      "id": "d592334a",
      "metadata": {
        "id": "d592334a"
      },
      "source": [
        "## Resultados"
      ]
    },
    {
      "cell_type": "code",
      "execution_count": 41,
      "id": "979346f7",
      "metadata": {
        "colab": {
          "base_uri": "https://localhost:8080/",
          "height": 489
        },
        "id": "979346f7",
        "outputId": "7d604785-030e-492d-a43a-261b13f699f9"
      },
      "outputs": [
        {
          "output_type": "display_data",
          "data": {
            "text/plain": [
              "<Figure size 640x480 with 1 Axes>"
            ],
            "image/png": "[encoded data removed]"
          },
          "metadata": {}
        },
        {
          "output_type": "stream",
          "name": "stdout",
          "text": [
            "Costo total: $4695.33\n"
          ]
        }
      ],
      "source": [
        "\n",
        "# Observación de los resultados\n",
        "meses = range(1, 13)\n",
        "plt.plot(meses, historial_inventario, label='Inventario')\n",
        "plt.scatter(*zip(*historial_pedidos), color='red', label='Pedidos')\n",
        "plt.xlabel('Mes')\n",
        "plt.ylabel('Unidades')\n",
        "plt.title('Simulación de Inventario')\n",
        "plt.legend()\n",
        "plt.show()\n",
        "\n",
        "print(f'Costo total: ${costo_total:.2f}')\n"
      ]
    }
  ],
  "metadata": {
    "colab": {
      "provenance": [],
      "include_colab_link": true
    },
    "language_info": {
      "name": "python"
    },
    "kernelspec": {
      "name": "python3",
      "display_name": "Python 3"
    }
  },
  "nbformat": 4,
  "nbformat_minor": 5
}