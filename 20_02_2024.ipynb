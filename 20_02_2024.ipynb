{
  "nbformat": 4,
  "nbformat_minor": 0,
  "metadata": {
    "colab": {
      "provenance": [],
      "authorship_tag": "ABX9TyNe7LONLpHFlEHpclzLvAPS",
      "include_colab_link": true
    },
    "kernelspec": {
      "name": "python3",
      "display_name": "Python 3"
    },
    "language_info": {
      "name": "python"
    }
  },
  "cells": [
    {
      "cell_type": "markdown",
      "metadata": {
        "id": "view-in-github",
        "colab_type": "text"
      },
      "source": [
        "<a href=\"https://colab.research.google.com/github/mn000000/Simulacion-1/blob/main/20_02_2024.ipynb\" target=\"_parent\"><img src=\"https://colab.research.google.com/assets/colab-badge.svg\" alt=\"Open In Colab\"/></a>"
      ]
    },
    {
      "cell_type": "code",
      "execution_count": null,
      "metadata": {
        "id": "QwIcj1uhLSoN"
      },
      "outputs": [],
      "source": [
        "semilla = input(\"Semilla: \")\n",
        "tam1 = len(semilla)\n",
        "print(\"Cantidad de dígitos: \", tam1)\n",
        "numero1 = int(semilla)\n",
        "for i in range(15):\n",
        "\tnumero2 = numero1**2\n",
        "\tsnumero2 = str(numero2)\n",
        "\ttam2 = len(snumero2)\n",
        "\tprimerc = int((tam2 - tam1) / 2)\n",
        "\tsnumero3 = snumero2[primerc:primerc+tam1]\n",
        "\tprint (\"{}.  {}\".format(i,snumero3))\n",
        "\tnumero1 = int(snumero3)"
      ]
    }
  ]
}