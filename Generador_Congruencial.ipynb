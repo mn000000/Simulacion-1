{
  "nbformat": 4,
  "nbformat_minor": 0,
  "metadata": {
    "colab": {
      "provenance": [],
      "authorship_tag": "ABX9TyM7nQp/6+hjWXtT/Z5tQ1C/",
      "include_colab_link": true
    },
    "kernelspec": {
      "name": "python3",
      "display_name": "Python 3"
    },
    "language_info": {
      "name": "python"
    }
  },
  "cells": [
    {
      "cell_type": "markdown",
      "metadata": {
        "id": "view-in-github",
        "colab_type": "text"
      },
      "source": [
        "<a href=\"https://colab.research.google.com/github/mn000000/Simulacion-1/blob/main/Generador_Congruencial.ipynb\" target=\"_parent\"><img src=\"https://colab.research.google.com/assets/colab-badge.svg\" alt=\"Open In Colab\"/></a>"
      ]
    },
    {
      "cell_type": "code",
      "execution_count": 8,
      "metadata": {
        "colab": {
          "base_uri": "https://localhost:8080/"
        },
        "id": "5p7abWlQWNoS",
        "outputId": "175ae7fb-c230-4867-915e-2313aec5d263"
      },
      "outputs": [
        {
          "output_type": "stream",
          "name": "stdout",
          "text": [
            "Digite el valor de a: 13\n",
            "Digite el valor de c: 0\n",
            "Digite el valor de x0: 1\n",
            "Digite el valor de m: 64\n",
            "[1, 13, 41, 21, 17, 29, 57, 37, 33, 45, 9, 53, 49, 61, 25, 5]\n",
            "16\n"
          ]
        }
      ],
      "source": [
        "# Generador Congruencial\n",
        "a = int(input(\"Digite el valor de a: \"))\n",
        "c = int(input(\"Digite el valor de c: \"))\n",
        "x0 = int(input(\"Digite el valor de x0: \"))\n",
        "m = int(input(\"Digite el valor de m: \"))\n",
        "lista = []\n",
        "x1 = (a * x0 + c) % m\n",
        "lista.append(x0)\n",
        "lista.append(x1)\n",
        "\n",
        "while True:\n",
        "  x1 = (a * x1 + c) % m\n",
        "  if x1 in lista[:-1]:\n",
        "    break\n",
        "  else:\n",
        "    lista.append(x1)\n",
        "cont = len(lista)\n",
        "print(lista)\n",
        "print(cont)\n"
      ]
    }
  ]
}