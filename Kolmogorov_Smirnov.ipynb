{
  "nbformat": 4,
  "nbformat_minor": 0,
  "metadata": {
    "colab": {
      "provenance": [],
      "authorship_tag": "ABX9TyPMAe46KPzgnEU3rEssIXFd",
      "include_colab_link": true
    },
    "kernelspec": {
      "name": "python3",
      "display_name": "Python 3"
    },
    "language_info": {
      "name": "python"
    }
  },
  "cells": [
    {
      "cell_type": "markdown",
      "metadata": {
        "id": "view-in-github",
        "colab_type": "text"
      },
      "source": [
        "<a href=\"https://colab.research.google.com/github/mn000000/Simulacion-1/blob/main/Kolmogorov_Smirnov.ipynb\" target=\"_parent\"><img src=\"https://colab.research.google.com/assets/colab-badge.svg\" alt=\"Open In Colab\"/></a>"
      ]
    },
    {
      "cell_type": "code",
      "execution_count": 7,
      "metadata": {
        "colab": {
          "base_uri": "https://localhost:8080/"
        },
        "id": "09XgfyLVuHXN",
        "outputId": "2f0b2274-3a16-4fc1-c8ca-8dcb9397eca8"
      },
      "outputs": [
        {
          "output_type": "stream",
          "name": "stdout",
          "text": [
            "Ingrese la cantidad de datos que desea ingresar: 5\n",
            "Ingrese el dato 1: 0.46\n",
            "Ingrese el dato 2: 0.98\n",
            "Ingrese el dato 3: 0.32\n",
            "Ingrese el dato 4: 0.33\n",
            "Ingrese el dato 5: 0.12\n",
            "Ingrese el nivel de significancia (alfa): 0.05\n",
            "Estadístico KS: 0.34\n",
            "P-valor: 0.5072604159999999\n",
            "No se rechaza la hipótesis nula para un nivel de significancia de 0.05: los datos siguen una distribución uniforme.\n"
          ]
        }
      ],
      "source": [
        "\n",
        "import numpy as np\n",
        "from scipy.stats import kstest\n",
        "\n",
        "def main():\n",
        "    n = int(input(\"Ingrese la cantidad de datos que desea ingresar: \"))\n",
        "    datos = []\n",
        "    for i in range(n):\n",
        "        dato = float(input(f\"Ingrese el dato {i+1}: \"))\n",
        "        datos.append(dato)\n",
        "\n",
        "    # Ordenar los datos\n",
        "    datos.sort()\n",
        "\n",
        "    # Generar la función de distribución acumulativa empírica (ECDF)\n",
        "    ecdf = np.arange(1, n + 1) / n\n",
        "\n",
        "    # Solicitar el nivel de significancia al usuario\n",
        "    alfa = float(input(\"Ingrese el nivel de significancia (alfa): \"))\n",
        "\n",
        "    # Calcular la prueba de Kolmogorov-Smirnov\n",
        "    ks_statistic, p_valor = kstest(datos, 'uniform')\n",
        "\n",
        "    print(\"Estadístico KS:\", ks_statistic)\n",
        "    print(\"P-valor:\", p_valor)\n",
        "\n",
        "    if p_valor > alfa:\n",
        "        print(f\"No se rechaza la hipótesis nula para un nivel de significancia de {alfa}: los datos siguen una distribución uniforme.\")\n",
        "    else:\n",
        "        print(f\"Se rechaza la hipótesis nula para un nivel de significancia de {alfa}: los datos no siguen una distribución uniforme.\")\n",
        "\n",
        "if __name__ == \"__main__\":\n",
        "    main()"
      ]
    }
  ]
}