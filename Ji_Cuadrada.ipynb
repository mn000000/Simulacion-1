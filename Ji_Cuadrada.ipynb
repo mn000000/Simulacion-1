{
  "nbformat": 4,
  "nbformat_minor": 0,
  "metadata": {
    "colab": {
      "provenance": [],
      "authorship_tag": "ABX9TyMkwDGEMU5a/MTC4JAaGjEG",
      "include_colab_link": true
    },
    "kernelspec": {
      "name": "python3",
      "display_name": "Python 3"
    },
    "language_info": {
      "name": "python"
    }
  },
  "cells": [
    {
      "cell_type": "markdown",
      "metadata": {
        "id": "view-in-github",
        "colab_type": "text"
      },
      "source": [
        "<a href=\"https://colab.research.google.com/github/mn000000/Simulacion-1/blob/main/Ji_Cuadrada.ipynb\" target=\"_parent\"><img src=\"https://colab.research.google.com/assets/colab-badge.svg\" alt=\"Open In Colab\"/></a>"
      ]
    },
    {
      "cell_type": "code",
      "execution_count": 3,
      "metadata": {
        "colab": {
          "base_uri": "https://localhost:8080/"
        },
        "id": "1hJ-A4xvgU63",
        "outputId": "f2411c6f-79de-4a26-de42-8fc4a6558363"
      },
      "outputs": [
        {
          "output_type": "stream",
          "name": "stdout",
          "text": [
            "Ingrese la cantidad de datos que desea ingresar: 40\n",
            "Ingrese el dato 1: 0.9\n",
            "Ingrese el dato 2: 0.678\n",
            "Ingrese el dato 3: 0.23435\n",
            "Ingrese el dato 4: 0.43434\n",
            "Ingrese el dato 5: 0.54469\n",
            "Ingrese el dato 6: 0.89194\n",
            "Ingrese el dato 7: 0.56\n",
            "Ingrese el dato 8: 0.5654\n",
            "Ingrese el dato 9: 0.5452\n",
            "Ingrese el dato 10: 0.11332\n",
            "Ingrese el dato 11: 0.9812\n",
            "Ingrese el dato 12: 0.23624\n",
            "Ingrese el dato 13: 0.4745\n",
            "Ingrese el dato 14: 0.4658\n",
            "Ingrese el dato 15: 0.461\n",
            "Ingrese el dato 16: 0.36789\n",
            "Ingrese el dato 17: 0.911\n",
            "Ingrese el dato 18: 0.6678\n",
            "Ingrese el dato 19: 0.5003\n",
            "Ingrese el dato 20: 0.400281\n",
            "Ingrese el dato 21: 0.1222101\n",
            "Ingrese el dato 22: 0.434105\n",
            "Ingrese el dato 23: 0.3213009\n",
            "Ingrese el dato 24: 0.55005932\n",
            "Ingrese el dato 25: 0.434211\n",
            "Ingrese el dato 26: 0.34563002\n",
            "Ingrese el dato 27: 0.99933301\n",
            "Ingrese el dato 28: 0.4319\n",
            "Ingrese el dato 29: 0.333399\n",
            "Ingrese el dato 30: 0.0002\n",
            "Ingrese el dato 31: 0.004045\n",
            "Ingrese el dato 32: 0.22002\n",
            "Ingrese el dato 33: 0.0102\n",
            "Ingrese el dato 34: 0.00052342\n",
            "Ingrese el dato 35: 0.008998\n",
            "Ingrese el dato 36: 0.00129992\n",
            "Ingrese el dato 37: 0.0000456538\n",
            "Ingrese el dato 38: 0.77789\n",
            "Ingrese el dato 39: 0.4509111111\n",
            "Ingrese el dato 40: 0.0111\n",
            "Frecuencias observadas: [10, 7, 15, 3, 4]\n",
            "Frecuencias esperadas: [8.0, 8.0, 8.0, 8.0, 8.0]\n",
            "Chi-cuadrado observado: 11.875\n",
            "Chi-cuadrado teórico (con 95% de confianza y 4 grados de libertad): 9.487729036781154\n",
            "Se rechaza la hipótesis nula: los datos no siguen una distribución uniforme.\n"
          ]
        }
      ],
      "source": [
        "# Prueba Ji Cuadrada\n",
        "import numpy as np\n",
        "from scipy.stats import chi2\n",
        "\n",
        "def generar_clases():\n",
        "    clases = []\n",
        "    limite_inferior = 0\n",
        "    limite_superior = 0.19\n",
        "    for _ in range(5):\n",
        "        clases.append((limite_inferior, limite_superior))\n",
        "        limite_inferior += 0.2\n",
        "        limite_superior += 0.2\n",
        "    return clases\n",
        "\n",
        "def calcular_frecuencias(datos, clases):\n",
        "    frecuencias = [0] * len(clases)\n",
        "    for dato in datos:\n",
        "        for i, (lim_inf, lim_sup) in enumerate(clases):\n",
        "            if lim_inf <= dato <= lim_sup:\n",
        "                frecuencias[i] += 1\n",
        "                break\n",
        "    return frecuencias\n",
        "\n",
        "def prueba_chi_cuadrado(frecuencias_obs, frecuencias_esp):\n",
        "    chi_cuadrado = sum((obs - esp) ** 2 / esp for obs, esp in zip(frecuencias_obs, frecuencias_esp))\n",
        "    return chi_cuadrado\n",
        "\n",
        "def main():\n",
        "    n = int(input(\"Ingrese la cantidad de datos que desea ingresar: \"))\n",
        "    datos = []\n",
        "    for i in range(n):\n",
        "        dato = float(input(f\"Ingrese el dato {i+1}: \"))\n",
        "        datos.append(dato)\n",
        "\n",
        "    clases = generar_clases()\n",
        "    frecuencias_esp = [n/5] * 5\n",
        "    frecuencias_obs = calcular_frecuencias(datos, clases)\n",
        "    chi_cuadrado_obs = prueba_chi_cuadrado(frecuencias_obs, frecuencias_esp)\n",
        "    grados_libertad = len(clases) - 1\n",
        "    chi_cuadrado_teorico = chi2.ppf(0.95, grados_libertad)\n",
        "\n",
        "    print(\"Frecuencias observadas:\", frecuencias_obs)\n",
        "    print(\"Frecuencias esperadas:\", frecuencias_esp)\n",
        "    print(\"Chi-cuadrado observado:\", chi_cuadrado_obs)\n",
        "    print(\"Chi-cuadrado teórico (con 95% de confianza y\", grados_libertad, \"grados de libertad):\", chi_cuadrado_teorico)\n",
        "    if chi_cuadrado_obs < chi_cuadrado_teorico:\n",
        "        print(\"No se rechaza la hipótesis nula: los datos siguen una distribución uniforme.\")\n",
        "    else:\n",
        "        print(\"Se rechaza la hipótesis nula: los datos no siguen una distribución uniforme.\")\n",
        "\n",
        "if __name__ == \"__main__\":\n",
        "    main()"
      ]
    }
  ]
}