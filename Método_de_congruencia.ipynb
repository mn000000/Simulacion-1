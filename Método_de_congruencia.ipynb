{
  "nbformat": 4,
  "nbformat_minor": 0,
  "metadata": {
    "colab": {
      "provenance": [],
      "authorship_tag": "ABX9TyOSD9Y8069/kD9zv+MwtrFg",
      "include_colab_link": true
    },
    "kernelspec": {
      "name": "python3",
      "display_name": "Python 3"
    },
    "language_info": {
      "name": "python"
    }
  },
  "cells": [
    {
      "cell_type": "markdown",
      "metadata": {
        "id": "view-in-github",
        "colab_type": "text"
      },
      "source": [
        "<a href=\"https://colab.research.google.com/github/mn000000/Simulacion-1/blob/main/M%C3%A9todo_de_congruencia.ipynb\" target=\"_parent\"><img src=\"https://colab.research.google.com/assets/colab-badge.svg\" alt=\"Open In Colab\"/></a>"
      ]
    },
    {
      "cell_type": "code",
      "execution_count": 59,
      "metadata": {
        "colab": {
          "base_uri": "https://localhost:8080/"
        },
        "id": "EJCyluzrMCBV",
        "outputId": "ec74a6f1-7997-4d25-bfbd-a4f591de679d"
      },
      "outputs": [
        {
          "output_type": "stream",
          "name": "stdout",
          "text": [
            "1 .  6\n",
            "2 .  3\n",
            "3 .  4\n",
            "4 .  9\n",
            "5 .  2\n",
            "6 .  15\n",
            "7 .  0\n",
            "8 .  5\n",
            "9 .  14\n",
            "10 .  11\n",
            "11 .  12\n",
            "12 .  1\n",
            "13 .  10\n",
            "14 .  7\n",
            "15 .  8\n",
            "16 .  13\n",
            "17 .  6\n",
            "18 .  3\n",
            "19 .  4\n",
            "20 .  9\n",
            "21 .  2\n",
            "22 .  15\n",
            "23 .  0\n",
            "24 .  5\n",
            "25 .  14\n"
          ]
        }
      ],
      "source": [
        "# Método de congruencia\n",
        "xo = 6\n",
        "m = 16\n",
        "a = 5\n",
        "c = 5\n",
        "print(\"1 . \",xo)\n",
        "for i in range(24):\n",
        "  xo = a*xo + c\n",
        "  w = xo%m\n",
        "  print(i+2,\". \",w)\n"
      ]
    }
  ]
}