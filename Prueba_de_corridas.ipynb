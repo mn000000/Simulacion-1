{
  "nbformat": 4,
  "nbformat_minor": 0,
  "metadata": {
    "colab": {
      "provenance": [],
      "authorship_tag": "ABX9TyPTF8uaIQlYDjJylmUJGI9c",
      "include_colab_link": true
    },
    "kernelspec": {
      "name": "python3",
      "display_name": "Python 3"
    },
    "language_info": {
      "name": "python"
    }
  },
  "cells": [
    {
      "cell_type": "markdown",
      "metadata": {
        "id": "view-in-github",
        "colab_type": "text"
      },
      "source": [
        "<a href=\"https://colab.research.google.com/github/mn000000/Simulacion-1/blob/main/Prueba_de_corridas.ipynb\" target=\"_parent\"><img src=\"https://colab.research.google.com/assets/colab-badge.svg\" alt=\"Open In Colab\"/></a>"
      ]
    },
    {
      "cell_type": "code",
      "execution_count": 7,
      "metadata": {
        "colab": {
          "base_uri": "https://localhost:8080/"
        },
        "id": "TqfRKoBlVGpz",
        "outputId": "3c85675c-4701-4f96-86ae-6532e3e8d5ed"
      },
      "outputs": [
        {
          "output_type": "stream",
          "name": "stdout",
          "text": [
            "Ingrese la cantidad de datos que desea ingresar: 7\n",
            "Ingrese el dato 1: 0.45\n",
            "Ingrese el dato 2: 0.26\n",
            "Ingrese el dato 3: 0.11\n",
            "Ingrese el dato 4: 0.80\n",
            "Ingrese el dato 5: 0.96\n",
            "Ingrese el dato 6: 0.77\n",
            "Ingrese el dato 7: 0.56\n",
            "Valor de la prueba de corridas arriba y abajo (z): -1.3884202690012462\n",
            "No se rechaza la hipótesis nula: los datos siguen un patrón aleatorio.\n"
          ]
        }
      ],
      "source": [
        "def contar_corridas_arriba_abajo(datos):\n",
        "    corridas = 1\n",
        "    for i in range(1, len(datos)):\n",
        "        if datos[i] > datos[i - 1]:\n",
        "            corridas += 1\n",
        "    return corridas\n",
        "\n",
        "def prueba_corridas_arriba_abajo(datos):\n",
        "    n = len(datos)\n",
        "    esperanza = (2 * n - 1) / 3\n",
        "    varianza = (16 * n - 29) / 90\n",
        "    z = (contar_corridas_arriba_abajo(datos) - esperanza) / (varianza ** 0.5)\n",
        "    return z\n",
        "\n",
        "def main():\n",
        "    n = int(input(\"Ingrese la cantidad de datos que desea ingresar: \"))\n",
        "    datos = []\n",
        "    for i in range(n):\n",
        "        dato = float(input(f\"Ingrese el dato {i+1}: \"))\n",
        "        datos.append(dato)\n",
        "\n",
        "    z = prueba_corridas_arriba_abajo(datos)\n",
        "    print(\"Valor de la prueba de corridas arriba y abajo (z):\", z)\n",
        "    if abs(z) <= 1.96:\n",
        "        print(\"No se rechaza la hipótesis nula: los datos siguen un patrón aleatorio.\")\n",
        "    else:\n",
        "        print(\"Se rechaza la hipótesis nula: los datos no siguen un patrón aleatorio.\")\n",
        "\n",
        "if __name__ == \"__main__\":\n",
        "    main()"
      ]
    }
  ]
}