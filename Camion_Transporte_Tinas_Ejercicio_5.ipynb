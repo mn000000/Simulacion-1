{
  "cells": [
    {
      "cell_type": "markdown",
      "metadata": {
        "id": "view-in-github",
        "colab_type": "text"
      },
      "source": [
        "<a href=\"https://colab.research.google.com/github/mn000000/Simulacion-1/blob/main/Camion_Transporte_Tinas_Ejercicio_5.ipynb\" target=\"_parent\"><img src=\"https://colab.research.google.com/assets/colab-badge.svg\" alt=\"Open In Colab\"/></a>"
      ]
    },
    {
      "cell_type": "markdown",
      "id": "1775d4e7",
      "metadata": {
        "id": "1775d4e7"
      },
      "source": [
        "\n",
        "# Análisis de Transporte de Tinas de Baño\n",
        "\n",
        "## Problema\n",
        "La empresa TIBASA, fabricante de tinas de baño, tiene asignado un camión especial para el transporte de tinas terminadas. Dicho camión transporta diariamente 5 tinas. El peso de cada tina sigue la siguiente distribución de probabilidad triangular con vértices en 190, 210 y 230 kg.\n",
        "\n",
        "### Parte 1: Probabilidad de Exceder la Capacidad del Camión\n",
        "#### (a) Resolución Analítica\n",
        "#### (b) Resolución por Simulación\n",
        "\n",
        "### Parte 2: Análisis de Conveniencia de Adquirir un Nuevo Camión\n",
        "#### (a) Resolución Analítica\n",
        "#### (b) Resolución por Simulación\n"
      ]
    },
    {
      "cell_type": "code",
      "execution_count": null,
      "id": "90420212",
      "metadata": {
        "id": "90420212"
      },
      "outputs": [],
      "source": [
        "\n",
        "import numpy as np\n",
        "import matplotlib.pyplot as plt\n",
        "\n",
        "# Definición de la función de densidad de probabilidad (f(x))\n",
        "def pdf(x):\n",
        "    if 190 <= x <= 230:\n",
        "        return 1/80 * (x - 190)\n",
        "    else:\n",
        "        return 0\n",
        "\n",
        "# Generación de datos para la gráfica de la pdf\n",
        "x = np.linspace(180, 240, 1000)\n",
        "y = [pdf(i) for i in x]\n",
        "\n",
        "# Graficar la función de densidad de probabilidad\n",
        "plt.plot(x, y)\n",
        "plt.title(\"Función de densidad de probabilidad del peso de las tinas\")\n",
        "plt.xlabel(\"Kilogramos\")\n",
        "plt.ylabel(\"f(x)\")\n",
        "plt.grid(True)\n",
        "plt.show()\n"
      ]
    },
    {
      "cell_type": "markdown",
      "id": "8f8756ce",
      "metadata": {
        "id": "8f8756ce"
      },
      "source": [
        "\n",
        "## Parte 1: Probabilidad de que el peso de las tinas exceda la capacidad del camión\n",
        "\n",
        "### (a) Resolución Analítica\n",
        "\n",
        "Para una distribución triangular $X \\sim Triangular(a, b, c)$:\n",
        "\n",
        "- La media ($\\mu$) está dada por:\n",
        "  \\[\n",
        "  $\\mu = \\frac{a + b + c}{3}$\n",
        "  \\]\n",
        "\n",
        "- La varianza $(\\sigma^2)$ está dada por:\n",
        "  \\[\n",
        "  $\\sigma^2 = \\frac{a^2 + b^2 + c^2 - ab - ac - bc}{18}$\n",
        "  \\]\n",
        "\n",
        "Donde:\n",
        "- $a = 190$\n",
        "- $b = 210$\n",
        "- $c = 230$\n",
        "\n",
        "Calculamos la media y la varianza:\n"
      ]
    },
    {
      "cell_type": "code",
      "execution_count": null,
      "id": "41959fe2",
      "metadata": {
        "id": "41959fe2"
      },
      "outputs": [],
      "source": [
        "\n",
        "# Parámetros de la distribución triangular\n",
        "a, b, c = 190, 210, 230\n",
        "\n",
        "# Cálculo de la media y varianza para una tina\n",
        "mu = (a + b + c) / 3\n",
        "sigma2 = (a**2 + b**2 + c**2 - a*b - a*c - b*c) / 18\n",
        "sigma = np.sqrt(sigma2)\n",
        "\n",
        "print(f\"Media (mu) de una tina: {mu}\")\n",
        "print(f\"Varianza (sigma^2) de una tina: {sigma2}\")\n",
        "print(f\"Desviación estándar (sigma) de una tina: {sigma}\")\n",
        "\n",
        "# Cálculo para el peso total de 5 tinas\n",
        "mu_total = 5 * mu\n",
        "sigma_total = np.sqrt(5) * sigma\n",
        "\n",
        "print(f\"Media (mu) del peso total de 5 tinas: {mu_total}\")\n",
        "print(f\"Desviación estándar (sigma) del peso total de 5 tinas: {sigma_total}\")\n",
        "\n",
        "# Probabilidad de que el peso total exceda 1000 kg (1 tonelada)\n",
        "from scipy.stats import norm\n",
        "\n",
        "# P(X > 1000)\n",
        "prob = 1 - norm.cdf(1000, mu_total, sigma_total)\n",
        "print(f\"Probabilidad de que el peso de las tinas exceda la capacidad del camión: {prob}\")\n"
      ]
    },
    {
      "cell_type": "markdown",
      "id": "2a7ff1e7",
      "metadata": {
        "id": "2a7ff1e7"
      },
      "source": [
        "\n",
        "### (b) Resolución por Simulación\n",
        "\n",
        "Utilizaremos un enfoque de Monte Carlo para simular el peso de 5 tinas y calcular la probabilidad de exceder la capacidad del camión.\n"
      ]
    },
    {
      "cell_type": "code",
      "execution_count": null,
      "id": "8269c261",
      "metadata": {
        "id": "8269c261"
      },
      "outputs": [],
      "source": [
        "\n",
        "# Simulación Monte Carlo\n",
        "np.random.seed(42)\n",
        "N = 100000  # Número de simulaciones\n",
        "\n",
        "# Función para generar un peso de tina basado en la distribución triangular\n",
        "def generate_tina_weight():\n",
        "    return np.random.triangular(a, b, c)\n",
        "\n",
        "# Generar pesos de 5 tinas en N simulaciones\n",
        "weights = np.array([sum(generate_tina_weight() for _ in range(5)) for _ in range(N)])\n",
        "\n",
        "# Calcular la probabilidad de exceder 1000 kg\n",
        "prob_sim = np.mean(weights > 1000)\n",
        "print(f\"Probabilidad de exceder 1000 kg (simulación): {prob_sim}\")\n"
      ]
    },
    {
      "cell_type": "markdown",
      "id": "7e2b328d",
      "metadata": {
        "id": "7e2b328d"
      },
      "source": [
        "\n",
        "## Parte 2: Análisis de conveniencia de adquirir un nuevo camión\n",
        "\n",
        "### (a) Resolución Analítica\n",
        "\n",
        "Calcularemos el costo anual de la alternativa de enviar una tina a través de otra compañía versus el costo de adquirir un nuevo camión.\n"
      ]
    },
    {
      "cell_type": "code",
      "execution_count": null,
      "id": "3ff67553",
      "metadata": {
        "id": "3ff67553"
      },
      "outputs": [],
      "source": [
        "\n",
        "# Costos\n",
        "costo_envio = 200  # Costo de enviar una tina extra\n",
        "costo_camion = 60000  # Costo anual de un nuevo camión\n",
        "dias_trabajo = 5 * 52  # Días de trabajo en un año\n",
        "\n",
        "# Cálculo de costos\n",
        "costo_anual_envio = dias_trabajo * prob * costo_envio\n",
        "print(f\"Costo anual de envío de tinas adicionales: {costo_anual_envio}\")\n",
        "print(f\"Costo anual de un nuevo camión: {costo_camion}\")\n",
        "\n",
        "if costo_anual_envio < costo_camion:\n",
        "    print(\"Es más económico enviar las tinas adicionales a través de otra compañía.\")\n",
        "else:\n",
        "    print(\"Es más económico adquirir un nuevo camión.\")\n"
      ]
    },
    {
      "cell_type": "markdown",
      "id": "6547110b",
      "metadata": {
        "id": "6547110b"
      },
      "source": [
        "\n",
        "### (b) Resolución por Simulación\n",
        "\n",
        "Simularemos el costo anual basado en la probabilidad obtenida en la Parte 1.\n"
      ]
    },
    {
      "cell_type": "code",
      "execution_count": null,
      "id": "9d6cd650",
      "metadata": {
        "id": "9d6cd650"
      },
      "outputs": [],
      "source": [
        "\n",
        "# Cálculo del costo anual basado en simulación\n",
        "costo_anual_envio_sim = dias_trabajo * prob_sim * costo_envio\n",
        "print(f\"Costo anual de envío de tinas adicionales (simulación): {costo_anual_envio_sim}\")\n",
        "\n",
        "if costo_anual_envio_sim < costo_camion:\n",
        "    print(\"Es más económico enviar las tinas adicionales a través de otra compañía (simulación).\")\n",
        "else:\n",
        "    print(\"Es más económico adquirir un nuevo camión (simulación).\")\n"
      ]
    }
  ],
  "metadata": {
    "colab": {
      "provenance": [],
      "include_colab_link": true
    }
  },
  "nbformat": 4,
  "nbformat_minor": 5
}