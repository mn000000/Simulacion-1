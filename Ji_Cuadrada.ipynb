{
  "nbformat": 4,
  "nbformat_minor": 0,
  "metadata": {
    "colab": {
      "provenance": [],
      "authorship_tag": "ABX9TyMkwDGEMU5a/MTC4JAaGjEG",
      "include_colab_link": true
    },
    "kernelspec": {
      "name": "python3",
      "display_name": "Python 3"
    },
    "language_info": {
      "name": "python"
    }
  },
  "cells": [
    {
      "cell_type": "markdown",
      "metadata": {
        "id": "view-in-github",
        "colab_type": "text"
      },
      "source": [
        "<a href=\"https://colab.research.google.com/github/mn000000/Simulacion-1/blob/main/Ji_Cuadrada.ipynb\" target=\"_parent\"><img src=\"https://colab.research.google.com/assets/colab-badge.svg\" alt=\"Open In Colab\"/></a>"
      ]
    },
    {
      "cell_type": "code",
      "execution_count": 5,
      "metadata": {
        "colab": {
          "base_uri": "https://localhost:8080/"
        },
        "id": "1hJ-A4xvgU63",
        "outputId": "bff86514-cd7f-4c07-c3e6-7a1286a531d7"
      },
      "outputs": [
        {
          "output_type": "stream",
          "name": "stdout",
          "text": [
            "Ingrese la cantidad de datos que desea ingresar: 15\n",
            "Ingrese el dato 1: 0.85\n",
            "Ingrese el dato 2: 0.76\n",
            "Ingrese el dato 3: 0.98\n",
            "Ingrese el dato 4: 0.12\n",
            "Ingrese el dato 5: 0.33\n",
            "Ingrese el dato 6: 0.14\n",
            "Ingrese el dato 7: 0.87\n",
            "Ingrese el dato 8: 0.64\n",
            "Ingrese el dato 9: 0.23\n",
            "Ingrese el dato 10: 0.44\n",
            "Ingrese el dato 11: 0.55\n",
            "Ingrese el dato 12: 0.59\n",
            "Ingrese el dato 13: 0.62\n",
            "Ingrese el dato 14: 0.71\n",
            "Ingrese el dato 15: 0.04\n",
            "Frecuencias observadas: [3, 2, 3, 4, 3]\n",
            "Frecuencias esperadas: [3.0, 3.0, 3.0, 3.0, 3.0]\n",
            "Chi-cuadrado observado: 0.6666666666666666\n",
            "Chi-cuadrado teórico (con 95% de confianza y 4 grados de libertad): 9.487729036781154\n",
            "No se rechaza la hipótesis nula: los datos siguen una distribución uniforme.\n"
          ]
        }
      ],
      "source": [
        "# Prueba Ji Cuadrada\n",
        "import numpy as np\n",
        "from scipy.stats import chi2\n",
        "\n",
        "def generar_clases():\n",
        "    clases = []\n",
        "    limite_inferior = 0\n",
        "    limite_superior = 0.19\n",
        "    for _ in range(5):\n",
        "        clases.append((limite_inferior, limite_superior))\n",
        "        limite_inferior += 0.2\n",
        "        limite_superior += 0.2\n",
        "    return clases\n",
        "\n",
        "def calcular_frecuencias(datos, clases):\n",
        "    frecuencias = [0] * len(clases)\n",
        "    for dato in datos:\n",
        "        for i, (lim_inf, lim_sup) in enumerate(clases):\n",
        "            if lim_inf <= dato <= lim_sup:\n",
        "                frecuencias[i] += 1\n",
        "                break\n",
        "    return frecuencias\n",
        "\n",
        "def prueba_chi_cuadrado(frecuencias_obs, frecuencias_esp):\n",
        "    chi_cuadrado = sum((obs - esp) ** 2 / esp for obs, esp in zip(frecuencias_obs, frecuencias_esp))\n",
        "    return chi_cuadrado\n",
        "\n",
        "def main():\n",
        "    n = int(input(\"Ingrese la cantidad de datos que desea ingresar: \"))\n",
        "    datos = []\n",
        "    for i in range(n):\n",
        "        dato = float(input(f\"Ingrese el dato {i+1}: \"))\n",
        "        datos.append(dato)\n",
        "\n",
        "    clases = generar_clases()\n",
        "    frecuencias_esp = [n/5] * 5\n",
        "    frecuencias_obs = calcular_frecuencias(datos, clases)\n",
        "    chi_cuadrado_obs = prueba_chi_cuadrado(frecuencias_obs, frecuencias_esp)\n",
        "    grados_libertad = len(clases) - 1\n",
        "    chi_cuadrado_teorico = chi2.ppf(0.95, grados_libertad)\n",
        "\n",
        "    print(\"Frecuencias observadas:\", frecuencias_obs)\n",
        "    print(\"Frecuencias esperadas:\", frecuencias_esp)\n",
        "    print(\"Chi-cuadrado observado:\", chi_cuadrado_obs)\n",
        "    print(\"Chi-cuadrado teórico (con 95% de confianza y\", grados_libertad, \"grados de libertad):\", chi_cuadrado_teorico)\n",
        "    if chi_cuadrado_obs < chi_cuadrado_teorico:\n",
        "        print(\"No se rechaza la hipótesis nula: los datos siguen una distribución uniforme.\")\n",
        "    else:\n",
        "        print(\"Se rechaza la hipótesis nula: los datos no siguen una distribución uniforme.\")\n",
        "\n",
        "if __name__ == \"__main__\":\n",
        "    main()"
      ]
    }
  ]
}