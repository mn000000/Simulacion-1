{
  "nbformat": 4,
  "nbformat_minor": 0,
  "metadata": {
    "colab": {
      "provenance": [],
      "authorship_tag": "ABX9TyPI76RrPBnqs6xK13J+n3tA",
      "include_colab_link": true
    },
    "kernelspec": {
      "name": "python3",
      "display_name": "Python 3"
    },
    "language_info": {
      "name": "python"
    }
  },
  "cells": [
    {
      "cell_type": "markdown",
      "metadata": {
        "id": "view-in-github",
        "colab_type": "text"
      },
      "source": [
        "<a href=\"https://colab.research.google.com/github/mn000000/Simulacion-1/blob/main/Producto_Medio.ipynb\" target=\"_parent\"><img src=\"https://colab.research.google.com/assets/colab-badge.svg\" alt=\"Open In Colab\"/></a>"
      ]
    },
    {
      "cell_type": "code",
      "execution_count": 8,
      "metadata": {
        "colab": {
          "base_uri": "https://localhost:8080/"
        },
        "id": "J3lx4NAuvzvS",
        "outputId": "fdfa0191-c2d2-401c-803d-0b7d55e74b20"
      },
      "outputs": [
        {
          "output_type": "stream",
          "name": "stdout",
          "text": [
            "Ingrese el número de números aleatorios que desea generar: 9\n",
            "Ingrese X1 (semilla de 4 dígitos): 5015\n",
            "Ingrese X2 (semilla de 4 dígitos): 5734\n",
            "[0.756, 0.349, 0.0116, 0.6514, 0.3512, 0.1378, 0.9014, 0.6862, 0.3467]\n"
          ]
        }
      ],
      "source": [
        "def center(size,number,contador):\n",
        "  li=int((contador-size)/2)\n",
        "  ls=size+li\n",
        "  return str(number)[li:ls]\n",
        "def alea(n,seed1,seed2):\n",
        "  size=len(str(seed1))\n",
        "  size2=len(str(seed2))\n",
        "  xi=seed1\n",
        "  xj=seed2\n",
        "  ri=[]\n",
        "  for _ in range(n):\n",
        "    xf=xj*xi\n",
        "    contador=len(str(xf))\n",
        "    c=center(size,xf,contador)\n",
        "    xi=int(c)\n",
        "    ri.append(float(\"0.\"+c))\n",
        "  return ri\n",
        "if __name__=='__main__':\n",
        "  n=int(input(\"Ingrese el número de números aleatorios que desea generar: \"))\n",
        "  seed1=int(input(\"Ingrese X1 (semilla de 4 dígitos): \"))\n",
        "  seed2=int(input(\"Ingrese X2 (semilla de 4 dígitos): \"))\n",
        "  lista_alea=alea(n,seed1,seed2)\n",
        "  print(lista_alea)"
      ]
    }
  ]
}