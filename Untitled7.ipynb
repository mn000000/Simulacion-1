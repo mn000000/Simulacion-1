{
  "nbformat": 4,
  "nbformat_minor": 0,
  "metadata": {
    "colab": {
      "provenance": [],
      "authorship_tag": "ABX9TyMsS0+mCjOtaKfyp4/QlYWe",
      "include_colab_link": true
    },
    "kernelspec": {
      "name": "python3",
      "display_name": "Python 3"
    },
    "language_info": {
      "name": "python"
    }
  },
  "cells": [
    {
      "cell_type": "markdown",
      "metadata": {
        "id": "view-in-github",
        "colab_type": "text"
      },
      "source": [
        "<a href=\"https://colab.research.google.com/github/mn000000/Simulacion-1/blob/main/Untitled7.ipynb\" target=\"_parent\"><img src=\"https://colab.research.google.com/assets/colab-badge.svg\" alt=\"Open In Colab\"/></a>"
      ]
    },
    {
      "cell_type": "code",
      "execution_count": 27,
      "metadata": {
        "id": "8l6_XpIE5APo"
      },
      "outputs": [],
      "source": [
        "import random as rnd\n",
        "import numpy as np\n",
        "import matplotlib.pyplot as plt"
      ]
    },
    {
      "cell_type": "code",
      "source": [
        "n=10\n",
        "lamb=2\n",
        "L=-1/lamb"
      ],
      "metadata": {
        "id": "SUbBEvS0C1e7"
      },
      "execution_count": 28,
      "outputs": []
    },
    {
      "cell_type": "code",
      "source": [
        "def expo(lamb,n):\n",
        "  lamb=2\n",
        "  n=10\n",
        "  lista=[]\n",
        "  for i in range(n):\n",
        "    u=rnd.random()\n",
        "    x=L*np.log(u)\n",
        "    lista.append(x)\n",
        "    return lista"
      ],
      "metadata": {
        "id": "KmeMXcwcC6eH"
      },
      "execution_count": 30,
      "outputs": []
    },
    {
      "cell_type": "code",
      "source": [],
      "metadata": {
        "id": "t_XGJm68D3P1"
      },
      "execution_count": null,
      "outputs": []
    }
  ]
}